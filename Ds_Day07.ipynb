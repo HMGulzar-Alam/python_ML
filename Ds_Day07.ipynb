{
 "cells": [
  {
   "cell_type": "code",
   "execution_count": 4,
   "id": "2af480a6",
   "metadata": {},
   "outputs": [
    {
     "name": "stdout",
     "output_type": "stream",
     "text": [
      "<class 'list'>\n"
     ]
    }
   ],
   "source": [
    "l = [1,2,3]\n",
    "print(type(l))"
   ]
  },
  {
   "cell_type": "code",
   "execution_count": 5,
   "id": "48640a80",
   "metadata": {},
   "outputs": [
    {
     "ename": "AttributeError",
     "evalue": "'list' object has no attribute 'upper'",
     "output_type": "error",
     "traceback": [
      "\u001b[1;31m---------------------------------------------------------------------------\u001b[0m",
      "\u001b[1;31mAttributeError\u001b[0m                            Traceback (most recent call last)",
      "Cell \u001b[1;32mIn[5], line 1\u001b[0m\n\u001b[1;32m----> 1\u001b[0m \u001b[43ml\u001b[49m\u001b[38;5;241;43m.\u001b[39;49m\u001b[43mupper\u001b[49m()\n",
      "\u001b[1;31mAttributeError\u001b[0m: 'list' object has no attribute 'upper'"
     ]
    }
   ],
   "source": [
    "l.upper()"
   ]
  },
  {
   "cell_type": "code",
   "execution_count": 6,
   "id": "0b56da77",
   "metadata": {},
   "outputs": [],
   "source": [
    "# class\n",
    "# 1.data or property\n",
    "# 2.function or behaviour"
   ]
  },
  {
   "cell_type": "code",
   "execution_count": 32,
   "id": "4a59431b",
   "metadata": {},
   "outputs": [],
   "source": [
    "# object literal\n",
    "l = [1,2,3]"
   ]
  },
  {
   "cell_type": "code",
   "execution_count": 8,
   "id": "195b124b",
   "metadata": {},
   "outputs": [
    {
     "name": "stdout",
     "output_type": "stream",
     "text": [
      "[] set() \n"
     ]
    }
   ],
   "source": [
    "# create an object\n",
    "a = list()\n",
    "b = set()\n",
    "c = str()\n",
    "print(a,b,c)"
   ]
  },
  {
   "cell_type": "code",
   "execution_count": 10,
   "id": "ce0fc8b4",
   "metadata": {},
   "outputs": [],
   "source": [
    "# pascal case\n",
    "# HelloWorld"
   ]
  },
  {
   "cell_type": "code",
   "execution_count": 15,
   "id": "06540a54",
   "metadata": {},
   "outputs": [],
   "source": [
    "class Atm:\n",
    "# constructor is a special function -> (super power)\n",
    "  def __init__(self):\n",
    "    self.pin = ' '\n",
    "    self.balance = 0\n",
    "    self.menu()\n",
    "    # print(\"execute ho gya\")\n",
    "\n",
    "  def menu(self):\n",
    "      user_input = input( '''\n",
    "      How may i help you\n",
    "      1.create pin\n",
    "      2.change pin\n",
    "      3.check balance pin\n",
    "      4.cash withdraw\n",
    "      5.exit\n",
    "      ''')\n",
    "\n",
    "      if user_input == '1':\n",
    "        # create pin\n",
    "        self.create_pin()\n",
    "      elif user_input == '2':\n",
    "        # change pin\n",
    "        self.change_pin()\n",
    "\n",
    "      elif user_input == '3':\n",
    "        # check balance\n",
    "        self.check_balance()\n",
    "\n",
    "      elif user_input == '4':\n",
    "        # cash withdraw\n",
    "        self.cash_withdraw()\n",
    "      else:\n",
    "        exit()\n",
    "\n",
    "  def create_pin(self):\n",
    "      user_pin = input(\"plz enter pin\")\n",
    "      self.pin = user_pin\n",
    "      user_balance = input(\"plz enter balance\")\n",
    "      self.balance= user_balance\n",
    "      print(\"Pin create successfully\")\n",
    "      self.menu()\n",
    "\n",
    "  def change_pin(self):\n",
    "      old_pin =input(\"plz enter old pin\")\n",
    "      if old_pin == self.pin :\n",
    "      # let him change the pin\n",
    "        new_pin = input(\"plz enter new pin\")\n",
    "        self.pin = new_pin\n",
    "        print(\"pin change successfully\")\n",
    "        self.menu()\n",
    "      else:\n",
    "        print(\"Not entertain\")\n",
    "        self.menu()\n",
    "\n",
    "  def check_balance(self):\n",
    "      user_pin = input(\"plz enter pin\")\n",
    "      if user_pin == self.pin:\n",
    "        print(\"Your balance is\",self.balance)\n",
    "        self.menu()\n",
    "      else:\n",
    "        print(\"Not entertain\")\n",
    "        self.menu()\n",
    "  def cash_withdraw(self):\n",
    "      user_pin = input(\"plz enter pin: \")\n",
    "      if user_pin == self.pin:\n",
    "        amount = int(input(\"plz enter amaount: \"))\n",
    "        if amount <= int(self.balance):\n",
    "            self.balance = self.balance - amount\n",
    "            print(\"cash withdraw successful: \",self.balance)\n",
    "            self.menu()\n",
    "        else:\n",
    "            print(\"balance not available\")\n",
    "            self.menu()\n",
    "      else:\n",
    "         print(\"Not entertain\")\n",
    "#         self.menu()\n",
    "           \n",
    "          \n",
    "            "
   ]
  },
  {
   "cell_type": "code",
   "execution_count": 16,
   "id": "65bcfd86",
   "metadata": {
    "scrolled": true
   },
   "outputs": [
    {
     "ename": "KeyboardInterrupt",
     "evalue": "Interrupted by user",
     "output_type": "error",
     "traceback": [
      "\u001b[1;31m---------------------------------------------------------------------------\u001b[0m",
      "\u001b[1;31mKeyboardInterrupt\u001b[0m                         Traceback (most recent call last)",
      "Cell \u001b[1;32mIn[16], line 1\u001b[0m\n\u001b[1;32m----> 1\u001b[0m obj \u001b[38;5;241m=\u001b[39m \u001b[43mAtm\u001b[49m\u001b[43m(\u001b[49m\u001b[43m)\u001b[49m\n",
      "Cell \u001b[1;32mIn[15], line 6\u001b[0m, in \u001b[0;36mAtm.__init__\u001b[1;34m(self)\u001b[0m\n\u001b[0;32m      4\u001b[0m \u001b[38;5;28mself\u001b[39m\u001b[38;5;241m.\u001b[39mpin \u001b[38;5;241m=\u001b[39m \u001b[38;5;124m'\u001b[39m\u001b[38;5;124m \u001b[39m\u001b[38;5;124m'\u001b[39m\n\u001b[0;32m      5\u001b[0m \u001b[38;5;28mself\u001b[39m\u001b[38;5;241m.\u001b[39mbalance \u001b[38;5;241m=\u001b[39m \u001b[38;5;241m0\u001b[39m\n\u001b[1;32m----> 6\u001b[0m \u001b[38;5;28;43mself\u001b[39;49m\u001b[38;5;241;43m.\u001b[39;49m\u001b[43mmenu\u001b[49m\u001b[43m(\u001b[49m\u001b[43m)\u001b[49m\n",
      "Cell \u001b[1;32mIn[15], line 10\u001b[0m, in \u001b[0;36mAtm.menu\u001b[1;34m(self)\u001b[0m\n\u001b[0;32m      9\u001b[0m \u001b[38;5;28;01mdef\u001b[39;00m \u001b[38;5;21mmenu\u001b[39m(\u001b[38;5;28mself\u001b[39m):\n\u001b[1;32m---> 10\u001b[0m     user_input \u001b[38;5;241m=\u001b[39m \u001b[38;5;28;43minput\u001b[39;49m\u001b[43m(\u001b[49m\u001b[43m \u001b[49m\u001b[38;5;124;43m'''\u001b[39;49m\n\u001b[0;32m     11\u001b[0m \u001b[38;5;124;43m    How may i help you\u001b[39;49m\n\u001b[0;32m     12\u001b[0m \u001b[38;5;124;43m    1.create pin\u001b[39;49m\n\u001b[0;32m     13\u001b[0m \u001b[38;5;124;43m    2.change pin\u001b[39;49m\n\u001b[0;32m     14\u001b[0m \u001b[38;5;124;43m    3.check balance pin\u001b[39;49m\n\u001b[0;32m     15\u001b[0m \u001b[38;5;124;43m    4.cash withdraw\u001b[39;49m\n\u001b[0;32m     16\u001b[0m \u001b[38;5;124;43m    5.exit\u001b[39;49m\n\u001b[0;32m     17\u001b[0m \u001b[38;5;124;43m    \u001b[39;49m\u001b[38;5;124;43m'''\u001b[39;49m\u001b[43m)\u001b[49m\n\u001b[0;32m     19\u001b[0m     \u001b[38;5;28;01mif\u001b[39;00m user_input \u001b[38;5;241m==\u001b[39m \u001b[38;5;124m'\u001b[39m\u001b[38;5;124m1\u001b[39m\u001b[38;5;124m'\u001b[39m:\n\u001b[0;32m     20\u001b[0m       \u001b[38;5;66;03m# create pin\u001b[39;00m\n\u001b[0;32m     21\u001b[0m       \u001b[38;5;28mself\u001b[39m\u001b[38;5;241m.\u001b[39mcreate_pin()\n",
      "File \u001b[1;32m~\\anaconda3\\lib\\site-packages\\ipykernel\\kernelbase.py:1175\u001b[0m, in \u001b[0;36mKernel.raw_input\u001b[1;34m(self, prompt)\u001b[0m\n\u001b[0;32m   1171\u001b[0m \u001b[38;5;28;01mif\u001b[39;00m \u001b[38;5;129;01mnot\u001b[39;00m \u001b[38;5;28mself\u001b[39m\u001b[38;5;241m.\u001b[39m_allow_stdin:\n\u001b[0;32m   1172\u001b[0m     \u001b[38;5;28;01mraise\u001b[39;00m StdinNotImplementedError(\n\u001b[0;32m   1173\u001b[0m         \u001b[38;5;124m\"\u001b[39m\u001b[38;5;124mraw_input was called, but this frontend does not support input requests.\u001b[39m\u001b[38;5;124m\"\u001b[39m\n\u001b[0;32m   1174\u001b[0m     )\n\u001b[1;32m-> 1175\u001b[0m \u001b[38;5;28;01mreturn\u001b[39;00m \u001b[38;5;28;43mself\u001b[39;49m\u001b[38;5;241;43m.\u001b[39;49m\u001b[43m_input_request\u001b[49m\u001b[43m(\u001b[49m\n\u001b[0;32m   1176\u001b[0m \u001b[43m    \u001b[49m\u001b[38;5;28;43mstr\u001b[39;49m\u001b[43m(\u001b[49m\u001b[43mprompt\u001b[49m\u001b[43m)\u001b[49m\u001b[43m,\u001b[49m\n\u001b[0;32m   1177\u001b[0m \u001b[43m    \u001b[49m\u001b[38;5;28;43mself\u001b[39;49m\u001b[38;5;241;43m.\u001b[39;49m\u001b[43m_parent_ident\u001b[49m\u001b[43m[\u001b[49m\u001b[38;5;124;43m\"\u001b[39;49m\u001b[38;5;124;43mshell\u001b[39;49m\u001b[38;5;124;43m\"\u001b[39;49m\u001b[43m]\u001b[49m\u001b[43m,\u001b[49m\n\u001b[0;32m   1178\u001b[0m \u001b[43m    \u001b[49m\u001b[38;5;28;43mself\u001b[39;49m\u001b[38;5;241;43m.\u001b[39;49m\u001b[43mget_parent\u001b[49m\u001b[43m(\u001b[49m\u001b[38;5;124;43m\"\u001b[39;49m\u001b[38;5;124;43mshell\u001b[39;49m\u001b[38;5;124;43m\"\u001b[39;49m\u001b[43m)\u001b[49m\u001b[43m,\u001b[49m\n\u001b[0;32m   1179\u001b[0m \u001b[43m    \u001b[49m\u001b[43mpassword\u001b[49m\u001b[38;5;241;43m=\u001b[39;49m\u001b[38;5;28;43;01mFalse\u001b[39;49;00m\u001b[43m,\u001b[49m\n\u001b[0;32m   1180\u001b[0m \u001b[43m\u001b[49m\u001b[43m)\u001b[49m\n",
      "File \u001b[1;32m~\\anaconda3\\lib\\site-packages\\ipykernel\\kernelbase.py:1217\u001b[0m, in \u001b[0;36mKernel._input_request\u001b[1;34m(self, prompt, ident, parent, password)\u001b[0m\n\u001b[0;32m   1214\u001b[0m             \u001b[38;5;28;01mbreak\u001b[39;00m\n\u001b[0;32m   1215\u001b[0m \u001b[38;5;28;01mexcept\u001b[39;00m \u001b[38;5;167;01mKeyboardInterrupt\u001b[39;00m:\n\u001b[0;32m   1216\u001b[0m     \u001b[38;5;66;03m# re-raise KeyboardInterrupt, to truncate traceback\u001b[39;00m\n\u001b[1;32m-> 1217\u001b[0m     \u001b[38;5;28;01mraise\u001b[39;00m \u001b[38;5;167;01mKeyboardInterrupt\u001b[39;00m(\u001b[38;5;124m\"\u001b[39m\u001b[38;5;124mInterrupted by user\u001b[39m\u001b[38;5;124m\"\u001b[39m) \u001b[38;5;28;01mfrom\u001b[39;00m \u001b[38;5;28mNone\u001b[39m\n\u001b[0;32m   1218\u001b[0m \u001b[38;5;28;01mexcept\u001b[39;00m \u001b[38;5;167;01mException\u001b[39;00m:\n\u001b[0;32m   1219\u001b[0m     \u001b[38;5;28mself\u001b[39m\u001b[38;5;241m.\u001b[39mlog\u001b[38;5;241m.\u001b[39mwarning(\u001b[38;5;124m\"\u001b[39m\u001b[38;5;124mInvalid Message:\u001b[39m\u001b[38;5;124m\"\u001b[39m, exc_info\u001b[38;5;241m=\u001b[39m\u001b[38;5;28;01mTrue\u001b[39;00m)\n",
      "\u001b[1;31mKeyboardInterrupt\u001b[0m: Interrupted by user"
     ]
    }
   ],
   "source": [
    "obj = Atm()"
   ]
  },
  {
   "cell_type": "code",
   "execution_count": 4,
   "id": "2450fcee",
   "metadata": {},
   "outputs": [
    {
     "name": "stdout",
     "output_type": "stream",
     "text": [
      "[1, 2, 3, 4, 5, 6]\n"
     ]
    }
   ],
   "source": [
    "# function vs method\n",
    "l = [1,2,3,4,5]\n",
    "len(l) #it is outside of the class\n",
    "l.append(6) #it is inside of the class\n",
    "print(l)"
   ]
  },
  {
   "cell_type": "code",
   "execution_count": 25,
   "id": "d8f1b929",
   "metadata": {},
   "outputs": [],
   "source": [
    "class Fraction:\n",
    "#     parametrized constructor that is constructor required to input\n",
    "    def __init__(self,x,y):\n",
    "        self.num = x\n",
    "        self.den = y\n",
    "#         print(x/4)\n",
    "\n",
    "#     def __str__(self):\n",
    "#         return \"idhar\"\n",
    "\n",
    "    def __str__(self):\n",
    "        return '{}/{}'.format(self.num,self.den)"
   ]
  },
  {
   "cell_type": "code",
   "execution_count": 27,
   "id": "91082f62",
   "metadata": {},
   "outputs": [
    {
     "name": "stdout",
     "output_type": "stream",
     "text": [
      "8/7\n",
      "3/4\n",
      "<class '__main__.Fraction'>\n"
     ]
    }
   ],
   "source": [
    "obj1 = Fraction(3,4)\n",
    "obj2 = Fraction(8,7)\n",
    "print(obj2)\n",
    "print(obj1)\n",
    "print(type(obj1))\n"
   ]
  },
  {
   "cell_type": "code",
   "execution_count": 72,
   "id": "6ec51d36",
   "metadata": {},
   "outputs": [],
   "source": [
    "class Fraction:\n",
    "    def __init__(self,x,y):\n",
    "        self.num = x\n",
    "        self.den = y\n",
    "    def __str__(self):\n",
    "        return '{}/{}'.format(self.num,self.den)\n",
    "    \n",
    "    def __add__(self,other):\n",
    "        new_num = self.num*other.den + self.den*other.num\n",
    "        new_den = self.den * other.den\n",
    "        return '{}/{}'.format(new_num,new_den)\n",
    "    \n",
    "    def __sub__(self,other):\n",
    "        new_num = self.num*other.den - self.den*other.num\n",
    "        new_den = self.den * other.den\n",
    "        return '{}/{}'.format(new_num,new_den)\n",
    "    \n",
    "    def __mul__(self,other):\n",
    "        new_num = self.num*other.num\n",
    "        new_den = self.den * other.den\n",
    "        return '{}/{}'.format(new_num,new_den)\n",
    "    \n",
    "    def __truediv__(self,other):\n",
    "        new_num = self.num*other.den - self.den*other.num\n",
    "        new_den = self.den * other.den\n",
    "        return '{}/{}'.format(new_num,new_den)\n",
    "    \n",
    "    def __convert_to_decimal__(self,other):\n",
    "        new_num = self.num*other.den - self.den*other.num\n",
    "        new_den = self.den * other.den\n",
    "        return '{}/{}'.format(new_num,new_den)"
   ]
  },
  {
   "cell_type": "code",
   "execution_count": 73,
   "id": "237b7fce",
   "metadata": {},
   "outputs": [],
   "source": [
    "frac = Fraction(3,4)\n",
    "frac1 = Fraction(7,8)"
   ]
  },
  {
   "cell_type": "code",
   "execution_count": 74,
   "id": "bcf5a137",
   "metadata": {},
   "outputs": [
    {
     "name": "stdout",
     "output_type": "stream",
     "text": [
      "3/4\n",
      "7/8\n"
     ]
    }
   ],
   "source": [
    "print(frac)\n",
    "print(frac1)"
   ]
  },
  {
   "cell_type": "code",
   "execution_count": 75,
   "id": "223de709",
   "metadata": {
    "scrolled": true
   },
   "outputs": [
    {
     "name": "stdout",
     "output_type": "stream",
     "text": [
      "52/32\n",
      "-4/32\n",
      "21/32\n"
     ]
    }
   ],
   "source": [
    "print(frac + frac1)\n",
    "print( frac - frac1)\n",
    "print(frac*frac1)"
   ]
  }
 ],
 "metadata": {
  "kernelspec": {
   "display_name": "Python 3 (ipykernel)",
   "language": "python",
   "name": "python3"
  },
  "language_info": {
   "codemirror_mode": {
    "name": "ipython",
    "version": 3
   },
   "file_extension": ".py",
   "mimetype": "text/x-python",
   "name": "python",
   "nbconvert_exporter": "python",
   "pygments_lexer": "ipython3",
   "version": "3.10.9"
  }
 },
 "nbformat": 4,
 "nbformat_minor": 5
}
