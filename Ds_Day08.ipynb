{
 "cells": [
  {
   "cell_type": "code",
   "execution_count": 46,
   "id": "531b95ab",
   "metadata": {},
   "outputs": [],
   "source": [
    "class point:\n",
    "    def __init__(self,x,y):\n",
    "        self.x_cord = x\n",
    "        self.y_cord = y\n",
    "    \n",
    "    def __str__(self):\n",
    "        return '<{},{}>'.format(self.x_cord,self.y_cord)\n",
    "    \n",
    "    def eucledian_distance(self,other):\n",
    "        return ((self.x_cord - other.x_cord)**2 + (self.y_cord - other.y_cord)**2)*0.5\n",
    "    \n",
    "    def eucledian_distance_from_origin(self):\n",
    "        return (self.x_cord**2 + self.y_cord**2)*0.5\n",
    "#         return self.eucledian_distance(point(0,0))"
   ]
  },
  {
   "cell_type": "code",
   "execution_count": 48,
   "id": "a5aca27d",
   "metadata": {},
   "outputs": [
    {
     "data": {
      "text/plain": [
       "44.5"
      ]
     },
     "execution_count": 48,
     "metadata": {},
     "output_type": "execute_result"
    }
   ],
   "source": [
    "obj = point(0,0)\n",
    "obj1 = point(8,5)\n",
    "\n",
    "obj1.eucledian_distance_from_origin()\n",
    "# obj.eucledian_distance(obj1)\n",
    "# obj.eucledian_distance_from_origin()"
   ]
  },
  {
   "cell_type": "code",
   "execution_count": 53,
   "id": "07f64851",
   "metadata": {},
   "outputs": [],
   "source": [
    "class line:\n",
    "    def __init__(self,A,B,C):\n",
    "        self.A = A\n",
    "        self.B = B\n",
    "        self.C = C\n",
    "        \n",
    "    def __str__(self):\n",
    "        return '{}X + {}Y + {}'.format(self.A,self.B,self.C)\n",
    "        "
   ]
  },
  {
   "cell_type": "code",
   "execution_count": 54,
   "id": "57776895",
   "metadata": {},
   "outputs": [
    {
     "name": "stdout",
     "output_type": "stream",
     "text": [
      "2X + 3Y + 4\n"
     ]
    }
   ],
   "source": [
    "li = line(2,3,4)\n",
    "print(li)"
   ]
  },
  {
   "cell_type": "code",
   "execution_count": 66,
   "id": "46aacc85",
   "metadata": {},
   "outputs": [],
   "source": [
    "# how object access attributes\n",
    "class person:\n",
    "    def __init__(self,name,country):\n",
    "        self.name = name\n",
    "        self.country =  country\n",
    "        self.greet()\n",
    "        \n",
    "    def greet(self):\n",
    "        if self.country == \"pakistan\":\n",
    "            print(\"Assalam O Alaikum\", self.name)\n",
    "        else:\n",
    "            print(\"Hello\",self.name)\n",
    "        "
   ]
  },
  {
   "cell_type": "code",
   "execution_count": 72,
   "id": "d01e8550",
   "metadata": {},
   "outputs": [
    {
     "name": "stdout",
     "output_type": "stream",
     "text": [
      "Assalam O Alaikum kashif\n",
      "Assalam O Alaikum kashif\n"
     ]
    },
    {
     "data": {
      "text/plain": [
       "'pakistan'"
      ]
     },
     "execution_count": 72,
     "metadata": {},
     "output_type": "execute_result"
    }
   ],
   "source": [
    "per = person(\"kashif\",  \"pakistan\")\n",
    "per.greet()\n",
    "per.name\n",
    "per.country"
   ]
  },
  {
   "cell_type": "code",
   "execution_count": 75,
   "id": "ff99f3e2",
   "metadata": {},
   "outputs": [
    {
     "data": {
      "text/plain": [
       "'male'"
      ]
     },
     "execution_count": 75,
     "metadata": {},
     "output_type": "execute_result"
    }
   ],
   "source": [
    "# creates attributes from out side the class\n",
    "per.gender = 'male'\n",
    "per.gender"
   ]
  },
  {
   "cell_type": "code",
   "execution_count": 15,
   "id": "601342f4",
   "metadata": {},
   "outputs": [
    {
     "name": "stdout",
     "output_type": "stream",
     "text": [
      "Gulzar Alam\n",
      "<__main__.status object at 0x000001A593141840>\n"
     ]
    }
   ],
   "source": [
    "# object without refrence\n",
    "class status:\n",
    "    def __init__(self,name, country):\n",
    "        self.name = name\n",
    "        self.country = country\n",
    "        print(self.name,self.country)\n",
    "        \n",
    "        \n",
    "p = status(\"Gulzar\", \"Alam\")\n",
    "print(p)"
   ]
  },
  {
   "cell_type": "code",
   "execution_count": 84,
   "id": "6bcc8d9c",
   "metadata": {},
   "outputs": [
    {
     "name": "stdout",
     "output_type": "stream",
     "text": [
      "2776940355136\n",
      "2776940355136\n"
     ]
    }
   ],
   "source": [
    "print(id(p))\n",
    "print(id(q))"
   ]
  },
  {
   "cell_type": "code",
   "execution_count": 9,
   "id": "5a274c49",
   "metadata": {},
   "outputs": [],
   "source": [
    "# pass by refrence\n",
    "class city:\n",
    "    def __init__(self,city,code):\n",
    "        self.city = city\n",
    "        self.code = code\n",
    "        self.cities()\n",
    "        \n",
    "    def cities(self):\n",
    "        print(\"your city is\",self.city, \"and city code is\", self.code)"
   ]
  },
  {
   "cell_type": "code",
   "execution_count": 10,
   "id": "cda08b94",
   "metadata": {},
   "outputs": [
    {
     "name": "stdout",
     "output_type": "stream",
     "text": [
      "your city is karachi and city code is 8\n",
      "<__main__.city object at 0x000001A591A77160>\n"
     ]
    }
   ],
   "source": [
    "p1 = city(\"karachi\", \"8\")\n",
    "p1\n",
    "print(p1)"
   ]
  },
  {
   "cell_type": "code",
   "execution_count": 62,
   "id": "6560b5d0",
   "metadata": {},
   "outputs": [],
   "source": [
    "# Encapsulation\n",
    "class Atm:\n",
    "    \n",
    "    __counter = 1\n",
    "    \n",
    "    def __init__(self):\n",
    "        self.pin = ' '\n",
    "        self.__balance = 0\n",
    "        self.cid = Atm.__counter\n",
    "        Atm.__counter = Atm.__counter + 1\n",
    "\n",
    "#         self.menu()\n",
    "\n",
    "\n",
    "        \n",
    "    def get_counter():\n",
    "        return Atm.__counter\n",
    "        \n",
    "        \n",
    "        \n",
    "        \n",
    "    def get_balance(self):\n",
    "        return self.__balance\n",
    "    \n",
    "    def set_balance(self,new_value):\n",
    "        if type(new_value) == int:\n",
    "          self.__balance = new_value\n",
    "        else:\n",
    "            print(\"beta masti nahi kro\")\n",
    "    \n",
    "    def menu(self):\n",
    "        user_input = input(\n",
    "        '''\n",
    "        Hi, How can i help you?\n",
    "        1. create pin\n",
    "        2. change pin\n",
    "        3. check balance\n",
    "        4. cash withdraw\n",
    "        5. exit\n",
    "        ''')\n",
    "        \n",
    "        if user_input == \"1\":\n",
    "            self.create_pin()\n",
    "        elif user_input == \"2\":\n",
    "            self.change_pin()\n",
    "        elif user_input == \"3\":\n",
    "            self.check_balance()\n",
    "        elif user_input == \"4\":\n",
    "            self.withdraw()\n",
    "        else:\n",
    "            exit()\n",
    "     \n",
    "    def create_pin(self):\n",
    "        user_pin = input(\"plz enter pin\")\n",
    "        self.pin = user_pin\n",
    "        \n",
    "        user_balance = input(\"plz enter balance\")\n",
    "        self.__balance = user_balance\n",
    "        \n",
    "        print(\"Pin create successfully\")\n",
    "        self.menu()\n",
    "        \n",
    "    def change_pin(self):\n",
    "        old_pin = input(\"plz enter old pin\")\n",
    "        if old_pin == self.pin:\n",
    "            print(\"Enter new pin\")\n",
    "#             let him change the pin\n",
    "            new_pin = input(\"plz enter new pin\")\n",
    "            self.pin = new_pin\n",
    "            print(\"pin change successfully!\")\n",
    "        else:\n",
    "            print(\"Not entertain\")\n",
    "            \n",
    "            \n",
    "    def check_balance(self):\n",
    "        user_pin = input(\"plz enter pin\")\n",
    "        if user_pin == self.pin:\n",
    "            print(\"Your available balance is: \", self.__balance)\n",
    "        else:\n",
    "            print(\"Not entertain\")\n",
    "            \n",
    "    def withdraw(self):    \n",
    "        user_pin = input(\"plz enter pin\")\n",
    "        if user_pin == self.pin:\n",
    "#             allow to withdraw\n",
    "            amount = input(\"plz enter amount\")\n",
    "            if amount <= self.balance:\n",
    "                self.balance = self.balance - amount\n",
    "                print(\"Succesful withdraw amaount\")\n",
    "            else:\n",
    "                print(\"Balance not available\")\n",
    "             \n",
    "        else :\n",
    "            print(\"Not entertain\")\n",
    "        "
   ]
  },
  {
   "cell_type": "code",
   "execution_count": 6,
   "id": "f532e238",
   "metadata": {},
   "outputs": [
    {
     "data": {
      "text/plain": [
       "0"
      ]
     },
     "execution_count": 6,
     "metadata": {},
     "output_type": "execute_result"
    }
   ],
   "source": [
    "obj = Atm()\n",
    "# obj.create_pin()\n",
    "obj.get_balance()"
   ]
  },
  {
   "cell_type": "code",
   "execution_count": 7,
   "id": "778fc82a",
   "metadata": {},
   "outputs": [],
   "source": [
    "obj.set_balance(1000)"
   ]
  },
  {
   "cell_type": "code",
   "execution_count": 8,
   "id": "b526ff52",
   "metadata": {},
   "outputs": [
    {
     "data": {
      "text/plain": [
       "1000"
      ]
     },
     "execution_count": 8,
     "metadata": {},
     "output_type": "execute_result"
    }
   ],
   "source": [
    "obj.get_balance()"
   ]
  },
  {
   "cell_type": "code",
   "execution_count": 38,
   "id": "97cba299",
   "metadata": {},
   "outputs": [
    {
     "name": "stdout",
     "output_type": "stream",
     "text": [
      "beta masti nahi kro\n"
     ]
    }
   ],
   "source": [
    "obj.set_balance('hehheh')"
   ]
  },
  {
   "cell_type": "code",
   "execution_count": 10,
   "id": "e5db9bde",
   "metadata": {},
   "outputs": [
    {
     "data": {
      "text/plain": [
       "1000"
      ]
     },
     "execution_count": 10,
     "metadata": {},
     "output_type": "execute_result"
    }
   ],
   "source": [
    "obj.get_balance()"
   ]
  },
  {
   "cell_type": "code",
   "execution_count": 28,
   "id": "147456ea",
   "metadata": {},
   "outputs": [
    {
     "data": {
      "text/plain": [
       "1"
      ]
     },
     "execution_count": 28,
     "metadata": {},
     "output_type": "execute_result"
    }
   ],
   "source": [
    "c1 = Atm()\n",
    "c1.cid"
   ]
  },
  {
   "cell_type": "code",
   "execution_count": 29,
   "id": "5c90b38b",
   "metadata": {},
   "outputs": [
    {
     "data": {
      "text/plain": [
       "2"
      ]
     },
     "execution_count": 29,
     "metadata": {},
     "output_type": "execute_result"
    }
   ],
   "source": [
    "c2 = Atm()\n",
    "c2.cid"
   ]
  },
  {
   "cell_type": "code",
   "execution_count": 31,
   "id": "0de2ef2f",
   "metadata": {},
   "outputs": [
    {
     "data": {
      "text/plain": [
       "4"
      ]
     },
     "execution_count": 31,
     "metadata": {},
     "output_type": "execute_result"
    }
   ],
   "source": [
    "c3 = Atm()\n",
    "c3.cid"
   ]
  },
  {
   "cell_type": "code",
   "execution_count": 32,
   "id": "3ea3a513",
   "metadata": {},
   "outputs": [
    {
     "data": {
      "text/plain": [
       "1"
      ]
     },
     "execution_count": 32,
     "metadata": {},
     "output_type": "execute_result"
    }
   ],
   "source": [
    "c1.cid"
   ]
  },
  {
   "cell_type": "code",
   "execution_count": 33,
   "id": "168413c9",
   "metadata": {},
   "outputs": [
    {
     "data": {
      "text/plain": [
       "2"
      ]
     },
     "execution_count": 33,
     "metadata": {},
     "output_type": "execute_result"
    }
   ],
   "source": [
    "c2.cid"
   ]
  },
  {
   "cell_type": "code",
   "execution_count": 35,
   "id": "b69bf482",
   "metadata": {},
   "outputs": [
    {
     "data": {
      "text/plain": [
       "5"
      ]
     },
     "execution_count": 35,
     "metadata": {},
     "output_type": "execute_result"
    }
   ],
   "source": [
    "Atm.counter"
   ]
  },
  {
   "cell_type": "code",
   "execution_count": 48,
   "id": "af7ddd76",
   "metadata": {},
   "outputs": [],
   "source": [
    "Atm.counter = \"hehehe\""
   ]
  },
  {
   "cell_type": "code",
   "execution_count": 63,
   "id": "89485ef5",
   "metadata": {},
   "outputs": [
    {
     "data": {
      "text/plain": [
       "1"
      ]
     },
     "execution_count": 63,
     "metadata": {},
     "output_type": "execute_result"
    }
   ],
   "source": [
    "c1 = Atm()\n",
    "c1.cid"
   ]
  },
  {
   "cell_type": "code",
   "execution_count": 65,
   "id": "87d24992",
   "metadata": {},
   "outputs": [
    {
     "ename": "TypeError",
     "evalue": "Atm.get_counter() takes 0 positional arguments but 1 was given",
     "output_type": "error",
     "traceback": [
      "\u001b[1;31m---------------------------------------------------------------------------\u001b[0m",
      "\u001b[1;31mTypeError\u001b[0m                                 Traceback (most recent call last)",
      "Cell \u001b[1;32mIn[65], line 2\u001b[0m\n\u001b[0;32m      1\u001b[0m \u001b[38;5;66;03m# not recieved because c1 not recieved\u001b[39;00m\n\u001b[1;32m----> 2\u001b[0m \u001b[43mc1\u001b[49m\u001b[38;5;241;43m.\u001b[39;49m\u001b[43mget_counter\u001b[49m\u001b[43m(\u001b[49m\u001b[43m)\u001b[49m\n",
      "\u001b[1;31mTypeError\u001b[0m: Atm.get_counter() takes 0 positional arguments but 1 was given"
     ]
    }
   ],
   "source": [
    "# not recieved because c1 not recieved\n",
    "c1.get_counter()"
   ]
  },
  {
   "cell_type": "code",
   "execution_count": 67,
   "id": "589098f8",
   "metadata": {},
   "outputs": [
    {
     "data": {
      "text/plain": [
       "2"
      ]
     },
     "execution_count": 67,
     "metadata": {},
     "output_type": "execute_result"
    }
   ],
   "source": [
    "# access using class name\n",
    "Atm.get_counter()"
   ]
  },
  {
   "cell_type": "code",
   "execution_count": 1,
   "id": "1392c8d2",
   "metadata": {},
   "outputs": [],
   "source": [
    "# list of objects\n",
    "class Person:\n",
    "    def __init__(self,name,gender):\n",
    "        self.name = name\n",
    "        self.gender = gender\n",
    "        \n",
    "p1 = Person(\"Gulzar\", \"male\")  \n",
    "p2 = Person(\"Adil\", \"male\")"
   ]
  },
  {
   "cell_type": "code",
   "execution_count": 2,
   "id": "d2c3caac",
   "metadata": {},
   "outputs": [
    {
     "name": "stdout",
     "output_type": "stream",
     "text": [
      "[<__main__.Person object at 0x00000247EBCA8280>, <__main__.Person object at 0x00000247EBCA9C90>]\n"
     ]
    }
   ],
   "source": [
    "l = [p1,p2]\n",
    "print(l) #str not used to provides address"
   ]
  },
  {
   "cell_type": "code",
   "execution_count": 63,
   "id": "bdc5ea4a",
   "metadata": {},
   "outputs": [
    {
     "name": "stdout",
     "output_type": "stream",
     "text": [
      "[<__main__.Person object at 0x00000122D3E32CE0>, <__main__.Person object at 0x00000122D3E31D20>]\n",
      "[<__main__.Person object at 0x00000122D3E32CE0>, <__main__.Person object at 0x00000122D3E31D20>]\n"
     ]
    }
   ],
   "source": [
    "for i in l:\n",
    "    print(l)"
   ]
  },
  {
   "cell_type": "code",
   "execution_count": 67,
   "id": "b0a5b4c2",
   "metadata": {},
   "outputs": [
    {
     "name": "stdout",
     "output_type": "stream",
     "text": [
      "Gulzar male\n",
      "Adil male\n"
     ]
    }
   ],
   "source": [
    "for i in l:\n",
    " print(i.name,i.gender)"
   ]
  },
  {
   "cell_type": "code",
   "execution_count": 4,
   "id": "eb3512e7",
   "metadata": {},
   "outputs": [
    {
     "name": "stdout",
     "output_type": "stream",
     "text": [
      "Gulzar male\n",
      "Gulzar male\n",
      "Adil male\n",
      "Adil male\n"
     ]
    }
   ],
   "source": [
    "# dictionar\n",
    "d = {'p1':p1,\n",
    "    'p2':p2}\n",
    "\n",
    "for i in d:\n",
    "    print(d[i].name, d[i].gender)\n",
    "    print(d[i].name, d[i].gender)"
   ]
  },
  {
   "cell_type": "code",
   "execution_count": null,
   "id": "6a58734b",
   "metadata": {},
   "outputs": [],
   "source": []
  }
 ],
 "metadata": {
  "kernelspec": {
   "display_name": "Python 3 (ipykernel)",
   "language": "python",
   "name": "python3"
  },
  "language_info": {
   "codemirror_mode": {
    "name": "ipython",
    "version": 3
   },
   "file_extension": ".py",
   "mimetype": "text/x-python",
   "name": "python",
   "nbconvert_exporter": "python",
   "pygments_lexer": "ipython3",
   "version": "3.10.9"
  }
 },
 "nbformat": 4,
 "nbformat_minor": 5
}
